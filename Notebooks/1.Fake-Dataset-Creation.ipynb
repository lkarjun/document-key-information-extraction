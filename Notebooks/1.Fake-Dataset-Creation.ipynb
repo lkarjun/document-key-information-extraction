{
 "cells": [
  {
   "cell_type": "markdown",
   "metadata": {},
   "source": [
    "### Fake Dataset creation"
   ]
  },
  {
   "cell_type": "code",
   "execution_count": 84,
   "metadata": {},
   "outputs": [],
   "source": [
    "from borb.pdf.canvas.layout.page_layout.multi_column_layout import SingleColumnLayout\n",
    "from borb.pdf.canvas.layout.table.fixed_column_width_table import FixedColumnWidthTable as Table\n",
    "from borb.pdf.canvas.layout.table.table import TableCell\n",
    "from borb.pdf.canvas.layout.text.paragraph import Paragraph\n",
    "from borb.pdf.canvas.layout.layout_element import Alignment\n",
    "from borb.pdf.canvas.color.color import HexColor, X11Color\n",
    "from borb.pdf.canvas.layout.image.image import Image\n",
    "from borb.pdf.document.document import Document\n",
    "from borb.pdf.page.page import Page\n",
    "from borb.pdf.pdf import PDF\n",
    "\n",
    "from decimal import Decimal\n",
    "\n",
    "from datetime import datetime\n",
    "from random import randint\n",
    "import random\n",
    "from tqdm import tqdm\n"
   ]
  },
  {
   "cell_type": "code",
   "execution_count": null,
   "metadata": {},
   "outputs": [],
   "source": []
  },
  {
   "cell_type": "code",
   "execution_count": 2,
   "metadata": {},
   "outputs": [],
   "source": [
    "def invoice_information():    \n",
    "    random_invoice = randint(10000, 50000)\n",
    "    random_date, random_month, random_year = randint(1, 28), randint(1, 12), randint(2010, 2022)\n",
    "    \n",
    "    table_001 = Table(number_of_rows=5, number_of_columns=3)\n",
    "\t\n",
    "    table_001.add(Paragraph(\"123 Madison drive\"))    \n",
    "    table_001.add(Paragraph(\" \"))\n",
    "    table_001.add(Paragraph(\" \"))\n",
    "    \n",
    "    table_001.add(Paragraph(\"Seattle, WA, 7829Q\"))    \n",
    "    table_001.add(Paragraph(\"Invoice   #\", font=\"Helvetica-Bold\", horizontal_alignment=Alignment.RIGHT))\n",
    "    table_001.add(Paragraph(\"%d\" % random.randint(10000, 50000)))   \n",
    "\t\n",
    "    table_001.add(Paragraph(\"+123-5687-446\"))    \n",
    "    table_001.add(Paragraph(\"Due Date #\", font=\"Helvetica-Bold\", horizontal_alignment=Alignment.RIGHT))\n",
    "    table_001.add(Paragraph(f\"{random_date}/{random_month}/{random_year}\")) \n",
    "\t\n",
    "    table_001.add(Paragraph(\"google@gmail.com\"))    \n",
    "    table_001.add(Paragraph(\" \"))\n",
    "    table_001.add(Paragraph(\" \"))\n",
    "\n",
    "    table_001.add(Paragraph(\"https://www.google.com\"))\n",
    "    table_001.add(Paragraph(\" \"))\n",
    "    table_001.add(Paragraph(\" \"))\n",
    "\n",
    "    table_001.set_padding_on_all_cells(Decimal(2), Decimal(2), Decimal(2), Decimal(2))    \t\t\n",
    "    table_001.no_borders()\n",
    "    return table_001"
   ]
  },
  {
   "cell_type": "code",
   "execution_count": 27,
   "metadata": {},
   "outputs": [],
   "source": [
    "def billing_and_shipping_information():  \n",
    "    table_001 = Table(number_of_rows=6, number_of_columns=1)  \n",
    "    table_001.add(  \n",
    "        Paragraph(  \n",
    "            \"BILL TO\",  \n",
    "            background_color=HexColor(\"263238\"),  \n",
    "            font_color=X11Color(\"White\"),  \n",
    "        )  \n",
    "    )  \n",
    "\n",
    "    table_001.add(Paragraph(\"Neeraj\"))        # BILLING  \n",
    "    table_001.add(Paragraph(\"Neeraj & Brothers Company\"))          # BILLING  \n",
    "    table_001.add(Paragraph(\"Ashoka Park Extn\"))        # BILLING  \n",
    "    table_001.add(Paragraph(\"New Delhi, DELHI-110026\")) # BILLING  \n",
    "    table_001.add(Paragraph(\"+91 1234567890\"))                 # BILLING  \n",
    "    table_001.set_padding_on_all_cells(Decimal(2), Decimal(2), Decimal(2), Decimal(2))  \n",
    "    table_001.no_borders()  \n",
    "    return table_001"
   ]
  },
  {
   "cell_type": "code",
   "execution_count": 62,
   "metadata": {},
   "outputs": [
    {
     "data": {
      "text/plain": [
       "343.4"
      ]
     },
     "execution_count": 62,
     "metadata": {},
     "output_type": "execute_result"
    }
   ],
   "source": [
    "3434 * 10/100"
   ]
  },
  {
   "cell_type": "code",
   "execution_count": 80,
   "metadata": {},
   "outputs": [],
   "source": [
    "def item_informations():  \n",
    "    item_details = [\n",
    "          (\"Laptop: Hp Laptop 15xx-bat i3\", randint(1, 10), randint(40, 80)), \n",
    "          (\"Laptop Cleaner 25 ml\", randint(1, 30), randint(10, 20)), \n",
    "          (\"Jbl Speaker 1003w\", randint(1, 40), randint(20, 30))\n",
    "    ]\n",
    "\n",
    "    table_001 = Table(number_of_rows=8, number_of_columns=4)  \n",
    "    for h in [\"DESCRIPTION\", \"QTY\", \"UNIT PRICE\", \"AMOUNT\"]:  \n",
    "        table_001.add(  \n",
    "            TableCell(  \n",
    "                Paragraph(h, font_color=X11Color(\"White\")),  \n",
    "                background_color=HexColor(\"016934\"),  \n",
    "            )  \n",
    "        )  \n",
    "  \n",
    "    odd_color = HexColor(\"BBBBBB\")  \n",
    "    even_color = HexColor(\"FFFFFF\")  \n",
    "    \n",
    "    subtotal = 0\n",
    "    \n",
    "    for row_number, item in enumerate(item_details):  \n",
    "        c = even_color if row_number % 2 == 0 else odd_color  \n",
    "        table_001.add(TableCell(Paragraph(item[0]), background_color=c))  \n",
    "        table_001.add(TableCell(Paragraph(str(item[1])), background_color=c))  \n",
    "        table_001.add(TableCell(Paragraph(\"$ \" + str(item[2])), background_color=c))  \n",
    "        total_ = item[1] * item[2]\n",
    "        subtotal += total_\n",
    "        table_001.add(TableCell(Paragraph(\"$ \" + str(total_)), background_color=c)) \n",
    "\n",
    "    discount = subtotal * 10/100\n",
    "    tax = subtotal * 2/100\n",
    "    total = subtotal - discount - tax\n",
    "    total = round(total, 2)\n",
    "\t  \n",
    "    table_001.add(TableCell(Paragraph(\"Subtotal\", font=\"Helvetica-Bold\", horizontal_alignment=Alignment.RIGHT,), col_span=3,))  \n",
    "    table_001.add(TableCell(Paragraph(f\"$ {subtotal}\", horizontal_alignment=Alignment.RIGHT)))  \n",
    "    table_001.add(TableCell(Paragraph(\"Discounts\", font=\"Helvetica-Bold\", horizontal_alignment=Alignment.RIGHT,),col_span=3,))  \n",
    "    table_001.add(TableCell(Paragraph(f\"$ {discount}\", horizontal_alignment=Alignment.RIGHT)))  \n",
    "    table_001.add(TableCell(Paragraph(\"Taxes\", font=\"Helvetica-Bold\", horizontal_alignment=Alignment.RIGHT), col_span=3,))  \n",
    "    table_001.add(TableCell(Paragraph(f\"$ {tax}\", horizontal_alignment=Alignment.RIGHT)))  \n",
    "    table_001.add(TableCell(Paragraph(\"Total\", font=\"Helvetica-Bold\", horizontal_alignment=Alignment.RIGHT  ), col_span=3,))  \n",
    "    table_001.add(TableCell(Paragraph(f\"$ {total}\", horizontal_alignment=Alignment.RIGHT)))  \n",
    "    table_001.set_padding_on_all_cells(Decimal(2), Decimal(2), Decimal(2), Decimal(2))  \n",
    "    table_001.no_borders()  \n",
    "    return table_001"
   ]
  },
  {
   "cell_type": "code",
   "execution_count": 81,
   "metadata": {},
   "outputs": [],
   "source": [
    "def create_pdf(save_file_name = \"output.pdf\"):\n",
    "    pdf = Document()\n",
    "    page = Page()\n",
    "    pdf.add_page(page)\n",
    "    page_layout = SingleColumnLayout(page)\n",
    "    page_layout.vertical_margin = page.get_page_info().get_height()\n",
    "    page_layout = SingleColumnLayout(page)\n",
    "    page_layout.vertical_margin = page.get_page_info().get_height()\n",
    "    page_layout.add(    \n",
    "                    Image(        \n",
    "                        r\"https://upload.wikimedia.org/wikipedia/commons/thumb/5/53/Google_%22G%22_Logo.svg/2048px-Google_%22G%22_Logo.svg.png\",        \n",
    "                        width=Decimal(80),        \n",
    "                        height=Decimal(80),    \n",
    "            ))\n",
    "    page_layout.add(Paragraph(\" \"))\n",
    "    page_layout.add(invoice_information())  \n",
    "    page_layout.add(Paragraph(\" \"))\n",
    "    page_layout.add(billing_and_shipping_information())\n",
    "    page_layout.add(Paragraph(\" \"))\n",
    "    page_layout.add(item_informations())\n",
    "    \n",
    "    with open(save_file_name, \"wb\") as pdf_file_handle:\n",
    "        PDF.dumps(pdf_file_handle, pdf)"
   ]
  },
  {
   "cell_type": "code",
   "execution_count": null,
   "metadata": {},
   "outputs": [],
   "source": []
  },
  {
   "cell_type": "code",
   "execution_count": 87,
   "metadata": {},
   "outputs": [
    {
     "name": "stderr",
     "output_type": "stream",
     "text": [
      "100%|██████████| 50/50 [00:48<00:00,  1.03it/s]\n"
     ]
    }
   ],
   "source": [
    "for i in tqdm(range(50)):\n",
    "    file_name = f\"Invoice_{i+1}.pdf\" \n",
    "    create_pdf(file_name)"
   ]
  }
 ],
 "metadata": {
  "kernelspec": {
   "display_name": "Python 3.10.4 ('Document-Processing-BIy4ds-I')",
   "language": "python",
   "name": "python3"
  },
  "language_info": {
   "codemirror_mode": {
    "name": "ipython",
    "version": 3
   },
   "file_extension": ".py",
   "mimetype": "text/x-python",
   "name": "python",
   "nbconvert_exporter": "python",
   "pygments_lexer": "ipython3",
   "version": "3.10.4"
  },
  "orig_nbformat": 4,
  "vscode": {
   "interpreter": {
    "hash": "f4f2e739b6a802bb027e61707291ee5a5c11fd3d9a500ac3e22132aadcd3581b"
   }
  }
 },
 "nbformat": 4,
 "nbformat_minor": 2
}
